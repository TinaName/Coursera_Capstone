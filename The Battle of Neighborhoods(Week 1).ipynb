{
    "cells": [
        {
            "cell_type": "code",
            "execution_count": 3,
            "metadata": {},
            "outputs": [
                {
                    "ename": "SyntaxError",
                    "evalue": "invalid syntax (<ipython-input-3-b336ce0b8ff3>, line 3)",
                    "output_type": "error",
                    "traceback": [
                        "\u001b[0;36m  File \u001b[0;32m\"<ipython-input-3-b336ce0b8ff3>\"\u001b[0;36m, line \u001b[0;32m3\u001b[0m\n\u001b[0;31m    For this week, you will required to submit the following:\u001b[0m\n\u001b[0m           ^\u001b[0m\n\u001b[0;31mSyntaxError\u001b[0m\u001b[0;31m:\u001b[0m invalid syntax\n"
                    ]
                }
            ],
            "source": "## This capstone project will be graded by your peers. This capstone project is worth 70% of your total grade. The project will be completed over the course of 2 weeks. Week 1 submissions will be worth 30% whereas week 2 submissions will be worth 40% of your total grade.\n\nFor this week, you will required to submit the following:\n\n## A description of the problem and a discussion of the background. (15 marks)\n## A description of the data and how it will be used to solve the problem. (15 marks)\n\n\n## A description of the problem and a discussion of the background.\nA  investor would like to open a new jamacian resturant to serve tourists to Toronto. Before providing the resturant, the investor would like to research into Toronto since they want to be differed from other resturants, and to provide an in-depth experience to its clients. So, they want to count the venues of each neiborhood and identify some distinct area and provide a  resturant wth a cusine that cant be foundin that area.\n\n## A description of the data and how it will be used to solve the problem.\nThe map data is avaiable through Foursquare API, and the neiborhood information can be found online through zipcode."
        },
        {
            "cell_type": "markdown",
            "metadata": {},
            "source": ""
        }
    ],
    "metadata": {
        "kernelspec": {
            "display_name": "Python 3.6",
            "language": "python",
            "name": "python3"
        },
        "language_info": {
            "codemirror_mode": {
                "name": "ipython",
                "version": 3
            },
            "file_extension": ".py",
            "mimetype": "text/x-python",
            "name": "python",
            "nbconvert_exporter": "python",
            "pygments_lexer": "ipython3",
            "version": "3.6.9"
        }
    },
    "nbformat": 4,
    "nbformat_minor": 1
}